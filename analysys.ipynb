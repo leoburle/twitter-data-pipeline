{
 "cells": [
  {
   "cell_type": "code",
   "execution_count": null,
   "metadata": {},
   "outputs": [],
   "source": [
    "from pyspark.sql import SparkSession\n",
    "from pyspark.sql.functions import explode, udf, lit\n",
    "from pyspark.sql.types import StringType, ArrayType\n",
    "spark=SparkSession.builder.appName('TryingSpark').getOrCreate()\n",
    "\n",
    "spark.conf.set(\"spark.sql.legacy.setCommandRejectsSparkCoreConfs\",\"false\") \n",
    "spark.conf.set(\"spark.executor.memory\", \"3g\") \n",
    "spark.conf.set(\"spark.driver.memory\", \"3g\")\n",
    "\n",
    "# set spark logger level from config file\n",
    "spark.sparkContext.setLogLevel(\"WARN\")\n",
    "\n",
    "raw_data = spark.read.json('/Users/lburle/projects/others/twitter-data-pipeline/data/twitter_data_1.json', multiLine=True)"
   ]
  },
  {
   "cell_type": "code",
   "execution_count": null,
   "metadata": {},
   "outputs": [],
   "source": [
    "from nltk.tokenize import sent_tokenize\n",
    "from nltk import download as nltk_download\n",
    "from nltk.corpus import stopwords\n",
    "\n",
    "nltk_download('punkt')\n",
    "nltk_download('stopwords')\n",
    "\n",
    "stopwords = stopwords.words('portuguese')\n",
    "\n",
    "stopwords = spark.sparkContext.broadcast(stopwords)"
   ]
  },
  {
   "cell_type": "code",
   "execution_count": null,
   "metadata": {},
   "outputs": [],
   "source": [
    "df = raw_data.select(explode(raw_data['data']))"
   ]
  },
  {
   "cell_type": "code",
   "execution_count": null,
   "metadata": {},
   "outputs": [],
   "source": [
    "df = df.select('col.id', 'col.created_at', 'col.text', 'col.public_metrics.*')"
   ]
  },
  {
   "cell_type": "code",
   "execution_count": null,
   "metadata": {},
   "outputs": [],
   "source": [
    "@udf(returnType=ArrayType(StringType()))\n",
    "def _get_tweet_main_words(tweet):\n",
    "    stopwords_list = stopwords.value\n",
    "    tokenized_tweets = sent_tokenize(tweet, language='portuguese')\n",
    "    filtered_tweet = []\n",
    "    for token in tokenized_tweets:\n",
    "        for word in token.split():\n",
    "            if word not in stopwords_list:\n",
    "                filtered_tweet.append(word)\n",
    "\n",
    "    return[filtered_tweet]"
   ]
  },
  {
   "cell_type": "code",
   "execution_count": null,
   "metadata": {},
   "outputs": [],
   "source": [
    "df_processed = df.withColumn(\n",
    "    'main_words',\n",
    "    _get_tweet_main_words(\n",
    "        'text'\n",
    "    )\n",
    ")"
   ]
  },
  {
   "cell_type": "code",
   "execution_count": null,
   "metadata": {},
   "outputs": [],
   "source": [
    "df_processed.select('text', 'main_words').show(10, truncate=False)"
   ]
  }
 ],
 "metadata": {
  "interpreter": {
   "hash": "69e903536f31813b548abfbc85a877b40bb1c8d498a4db749ad947d02a2869cd"
  },
  "kernelspec": {
   "display_name": "Python 3.8.9 ('.venv': venv)",
   "language": "python",
   "name": "python3"
  },
  "language_info": {
   "codemirror_mode": {
    "name": "ipython",
    "version": 3
   },
   "file_extension": ".py",
   "mimetype": "text/x-python",
   "name": "python",
   "nbconvert_exporter": "python",
   "pygments_lexer": "ipython3",
   "version": "3.8.9"
  },
  "orig_nbformat": 4
 },
 "nbformat": 4,
 "nbformat_minor": 2
}
